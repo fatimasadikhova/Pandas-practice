{
 "cells": [
  {
   "cell_type": "code",
   "execution_count": 319,
   "id": "02116a26-2a33-4bba-bc08-1b167ed8f94e",
   "metadata": {},
   "outputs": [],
   "source": [
    "import pandas as pd\n",
    "\n",
    "df = pd.read_csv(r'C:\\Users\\User\\Desktop\\Data\\ML\\Tasks\\data.csv', sep= ';')"
   ]
  },
  {
   "cell_type": "code",
   "execution_count": 321,
   "id": "ef1668ce-08b5-46c7-971b-f241bf27fbc2",
   "metadata": {},
   "outputs": [
    {
     "name": "stdout",
     "output_type": "stream",
     "text": [
      "                     id                   address  \\\n",
      "0  AVwc__cikufWRAb51QjV         610 Commercial St   \n",
      "1  AVwc__cikufWRAb51QjV         610 Commercial St   \n",
      "2  AVwc__dF_7pvs4fz1Ncy      9521 Morton Davis Dr   \n",
      "3  AVwc__kCByjofQCxkdm-  10550 W I 25 Frontage Rd   \n",
      "4  AVwc__WtByjofQCxkdkR             8495 W 3rd St   \n",
      "\n",
      "                                          categories         city  \\\n",
      "0  Restaurant Delivery Service,Restaurants,Pizza,...     Atchison   \n",
      "1  Restaurant Delivery Service,Restaurants,Pizza,...     Atchison   \n",
      "2       Golf Course, American Restaurant, and Resort    Patterson   \n",
      "3                               Fast Food Restaurant     Longmont   \n",
      "4  Mexican Restaurant Mid-City West,Mexican Resta...  Los Angeles   \n",
      "\n",
      "                      cuisines             dateAdded           dateUpdated  \\\n",
      "0  Restaurant Delivery Service  2016-03-02T11:49:34Z  2017-02-01T18:04:44Z   \n",
      "1  Restaurant Delivery Service  2016-03-02T11:49:34Z  2017-02-01T18:04:44Z   \n",
      "2                          NaN  2016-10-14T01:58:25Z  2016-10-14T01:58:25Z   \n",
      "3                          NaN  2016-09-09T17:30:34Z  2016-10-04T05:15:17Z   \n",
      "4                      Mexican  2016-05-19T11:50:25Z  2016-09-11T00:06:37Z   \n",
      "\n",
      "                latitude                longitude menus.category  \\\n",
      "0              3.956.157               -9.512.102            NaN   \n",
      "1              3.956.157               -9.512.102            NaN   \n",
      "2             37.401.855             -121.266.703            NaN   \n",
      "3                    NaN                      NaN            NaN   \n",
      "4  3.408.072.429.999.990  -11.838.957.759.999.900            NaN   \n",
      "\n",
      "  menus.currency        menus.dateSeen  \\\n",
      "0            NaN  2017-02-01T18:04:44Z   \n",
      "1            NaN  2016-03-02T11:49:34Z   \n",
      "2            NaN  2016-10-14T01:58:25Z   \n",
      "3            NaN  2016-09-09T17:30:34Z   \n",
      "4            NaN  2016-05-19T11:50:25Z   \n",
      "\n",
      "                                   menus.description         menus.name  \\\n",
      "0                                                NaN               Taco   \n",
      "1  Beef, onion, cheddar cheese, lettuce,  refried...               Taco   \n",
      "2  Beef barbacoa or chicken, spanish rice, pico d...   Smotherd Burrito   \n",
      "3                                                NaN    Sausage Burrito   \n",
      "4  Wahoo, avocado, cabbage, pico de gallo  and av...  Wahoo Tacogrilled   \n",
      "\n",
      "                                name      province  \n",
      "0                    Gambino's Pizza            KS  \n",
      "1                    Gambino's Pizza            KS  \n",
      "2  Diablo Grande Golf & Country Club       Grayson  \n",
      "3                         Mcdonald's         Niwot  \n",
      "4           Baja Fresh Mexican Grill  Bicentennial  \n"
     ]
    }
   ],
   "source": [
    "print(df.head())"
   ]
  },
  {
   "cell_type": "code",
   "execution_count": 323,
   "id": "ec68985c-5213-46df-a9d4-a1c5fe7ed8cf",
   "metadata": {},
   "outputs": [
    {
     "name": "stdout",
     "output_type": "stream",
     "text": [
      "2016-03-02T11:49:34Z,2016-03-02T11:49:34Z,2016-10-14T01:58:25Z\n"
     ]
    }
   ],
   "source": [
    "# Task 1: List the first three values of the dateAdded column, separated by a comma and a\n",
    "# space, in the order they appear.\n",
    "\n",
    "first_three_values = df['dateAdded'].head(3)\n",
    "\n",
    "joined = ','.join(first_three_values.astype(str))\n",
    "print(joined)"
   ]
  },
  {
   "cell_type": "code",
   "execution_count": 325,
   "id": "24bf495e-0132-4680-8aa5-d89a2767836e",
   "metadata": {},
   "outputs": [
    {
     "data": {
      "text/plain": [
       "dtype('O')"
      ]
     },
     "execution_count": 325,
     "metadata": {},
     "output_type": "execute_result"
    }
   ],
   "source": [
    "# Task 2: Let's check the data types of the city and latitude columns.\n",
    "\n",
    "df['city'].dtype"
   ]
  },
  {
   "cell_type": "code",
   "execution_count": 327,
   "id": "f5d2bfa7-f6b4-4b18-ae96-c45d686529eb",
   "metadata": {},
   "outputs": [
    {
     "data": {
      "text/plain": [
       "dtype('O')"
      ]
     },
     "execution_count": 327,
     "metadata": {},
     "output_type": "execute_result"
    }
   ],
   "source": [
    "df['latitude'].dtype"
   ]
  },
  {
   "cell_type": "code",
   "execution_count": 329,
   "id": "e1ad1805-c4bf-472d-8e10-6e108b2008f7",
   "metadata": {},
   "outputs": [
    {
     "data": {
      "text/html": [
       "<div>\n",
       "<style scoped>\n",
       "    .dataframe tbody tr th:only-of-type {\n",
       "        vertical-align: middle;\n",
       "    }\n",
       "\n",
       "    .dataframe tbody tr th {\n",
       "        vertical-align: top;\n",
       "    }\n",
       "\n",
       "    .dataframe thead th {\n",
       "        text-align: right;\n",
       "    }\n",
       "</style>\n",
       "<table border=\"1\" class=\"dataframe\">\n",
       "  <thead>\n",
       "    <tr style=\"text-align: right;\">\n",
       "      <th></th>\n",
       "      <th>id</th>\n",
       "      <th>address</th>\n",
       "      <th>categories</th>\n",
       "      <th>city</th>\n",
       "      <th>cuisines</th>\n",
       "      <th>dateAdded</th>\n",
       "      <th>dateUpdated</th>\n",
       "      <th>latitude</th>\n",
       "      <th>longitude</th>\n",
       "      <th>menus.category</th>\n",
       "      <th>menus.currency</th>\n",
       "      <th>menus.dateSeen</th>\n",
       "      <th>menus.description</th>\n",
       "      <th>menus.name</th>\n",
       "      <th>name</th>\n",
       "      <th>province</th>\n",
       "    </tr>\n",
       "  </thead>\n",
       "  <tbody>\n",
       "    <tr>\n",
       "      <th>count</th>\n",
       "      <td>77260</td>\n",
       "      <td>77260</td>\n",
       "      <td>77260</td>\n",
       "      <td>77260</td>\n",
       "      <td>38384</td>\n",
       "      <td>77260</td>\n",
       "      <td>77260</td>\n",
       "      <td>55636</td>\n",
       "      <td>55636</td>\n",
       "      <td>3729</td>\n",
       "      <td>40511</td>\n",
       "      <td>77260</td>\n",
       "      <td>29323</td>\n",
       "      <td>77260</td>\n",
       "      <td>77257</td>\n",
       "      <td>77257</td>\n",
       "    </tr>\n",
       "    <tr>\n",
       "      <th>unique</th>\n",
       "      <td>19439</td>\n",
       "      <td>18618</td>\n",
       "      <td>8488</td>\n",
       "      <td>3601</td>\n",
       "      <td>1588</td>\n",
       "      <td>17965</td>\n",
       "      <td>17675</td>\n",
       "      <td>14690</td>\n",
       "      <td>14690</td>\n",
       "      <td>962</td>\n",
       "      <td>2</td>\n",
       "      <td>18453</td>\n",
       "      <td>15730</td>\n",
       "      <td>15737</td>\n",
       "      <td>10526</td>\n",
       "      <td>1097</td>\n",
       "    </tr>\n",
       "    <tr>\n",
       "      <th>top</th>\n",
       "      <td>AVwch4pVByjofQCxfPyl</td>\n",
       "      <td>3000 N Dinuba Blvd</td>\n",
       "      <td>Mexican Restaurant</td>\n",
       "      <td>San Diego</td>\n",
       "      <td>Mexican</td>\n",
       "      <td>2015-10-23T02:21:55Z</td>\n",
       "      <td>2015-11-02T15:47:29Z</td>\n",
       "      <td>3.383.235</td>\n",
       "      <td>-11.812.516</td>\n",
       "      <td>Tacos</td>\n",
       "      <td>USD</td>\n",
       "      <td>2016-04-24T00:00:00Z</td>\n",
       "      <td>Crunchy corn tortilla, spicy beef, american ch...</td>\n",
       "      <td>Breakfast Burrito</td>\n",
       "      <td>Chili's Grill &amp; Bar</td>\n",
       "      <td>CA</td>\n",
       "    </tr>\n",
       "    <tr>\n",
       "      <th>freq</th>\n",
       "      <td>68</td>\n",
       "      <td>69</td>\n",
       "      <td>15094</td>\n",
       "      <td>1924</td>\n",
       "      <td>6280</td>\n",
       "      <td>79</td>\n",
       "      <td>68</td>\n",
       "      <td>53</td>\n",
       "      <td>53</td>\n",
       "      <td>291</td>\n",
       "      <td>40495</td>\n",
       "      <td>821</td>\n",
       "      <td>1087</td>\n",
       "      <td>3188</td>\n",
       "      <td>8296</td>\n",
       "      <td>23664</td>\n",
       "    </tr>\n",
       "  </tbody>\n",
       "</table>\n",
       "</div>"
      ],
      "text/plain": [
       "                          id             address          categories  \\\n",
       "count                  77260               77260               77260   \n",
       "unique                 19439               18618                8488   \n",
       "top     AVwch4pVByjofQCxfPyl  3000 N Dinuba Blvd  Mexican Restaurant   \n",
       "freq                      68                  69               15094   \n",
       "\n",
       "             city cuisines             dateAdded           dateUpdated  \\\n",
       "count       77260    38384                 77260                 77260   \n",
       "unique       3601     1588                 17965                 17675   \n",
       "top     San Diego  Mexican  2015-10-23T02:21:55Z  2015-11-02T15:47:29Z   \n",
       "freq         1924     6280                    79                    68   \n",
       "\n",
       "         latitude    longitude menus.category menus.currency  \\\n",
       "count       55636        55636           3729          40511   \n",
       "unique      14690        14690            962              2   \n",
       "top     3.383.235  -11.812.516          Tacos            USD   \n",
       "freq           53           53            291          40495   \n",
       "\n",
       "              menus.dateSeen  \\\n",
       "count                  77260   \n",
       "unique                 18453   \n",
       "top     2016-04-24T00:00:00Z   \n",
       "freq                     821   \n",
       "\n",
       "                                        menus.description         menus.name  \\\n",
       "count                                               29323              77260   \n",
       "unique                                              15730              15737   \n",
       "top     Crunchy corn tortilla, spicy beef, american ch...  Breakfast Burrito   \n",
       "freq                                                 1087               3188   \n",
       "\n",
       "                       name province  \n",
       "count                 77257    77257  \n",
       "unique                10526     1097  \n",
       "top     Chili's Grill & Bar       CA  \n",
       "freq                   8296    23664  "
      ]
     },
     "execution_count": 329,
     "metadata": {},
     "output_type": "execute_result"
    }
   ],
   "source": [
    "# Task 3: Which columns will be displayed when the describe() method is applied?\n",
    "\n",
    "df.describe()"
   ]
  },
  {
   "cell_type": "code",
   "execution_count": 335,
   "id": "a86a10d7-9c3b-4a83-a360-72fd468b1bb5",
   "metadata": {},
   "outputs": [
    {
     "data": {
      "text/plain": [
       "341.6594261321454"
      ]
     },
     "execution_count": 335,
     "metadata": {},
     "output_type": "execute_result"
    }
   ],
   "source": [
    "# Task 4: What are the mean values for the columns that describe() returned in the\n",
    "# previous task?\n",
    "\n",
    "df['latitude'].mean()"
   ]
  },
  {
   "cell_type": "code",
   "execution_count": 333,
   "id": "a3bb0f47-88ea-47c2-9559-d1b21b67c79b",
   "metadata": {},
   "outputs": [],
   "source": [
    "df['latitude'] = pd.to_numeric(df['latitude'], errors='coerce')\n",
    "df['longitude'] = pd.to_numeric(df['longitude'], errors='coerce')"
   ]
  },
  {
   "cell_type": "code",
   "execution_count": 337,
   "id": "b3f883dd-eb23-4cb2-82ce-78dfa8e05724",
   "metadata": {},
   "outputs": [
    {
     "data": {
      "text/plain": [
       "-599.7989591419816"
      ]
     },
     "execution_count": 337,
     "metadata": {},
     "output_type": "execute_result"
    }
   ],
   "source": [
    "df['longitude'].mean()"
   ]
  },
  {
   "cell_type": "code",
   "execution_count": null,
   "id": "795710b0-7d6e-43c2-8da5-8078cd7c7f15",
   "metadata": {},
   "outputs": [],
   "source": [
    "# Task 5: Currently, there are missing values in the data. Let's remove them.\n",
    "\n",
    "#df = df.dropna()"
   ]
  },
  {
   "cell_type": "code",
   "execution_count": 339,
   "id": "a75209af-ec12-4239-9889-a7616d98c5b4",
   "metadata": {},
   "outputs": [],
   "source": [
    "#Boşluqları silmək əvəzinə mode, mean ilə doldurdum.\n",
    "\n",
    "df['cuisines'] = df['cuisines'].fillna(df['cuisines'].mode()[0])"
   ]
  },
  {
   "cell_type": "code",
   "execution_count": 341,
   "id": "512202aa-e981-4ce6-a1c0-ecfeecd78ea6",
   "metadata": {},
   "outputs": [],
   "source": [
    "df['latitude'] = df['latitude'].fillna(df['latitude'].mean())"
   ]
  },
  {
   "cell_type": "code",
   "execution_count": 343,
   "id": "7bf27771-7e06-406e-980b-2afba26f5656",
   "metadata": {},
   "outputs": [],
   "source": [
    "df['longitude'] = df['longitude'].fillna(df['longitude'].mean())"
   ]
  },
  {
   "cell_type": "code",
   "execution_count": 345,
   "id": "d6c08c44-a107-4f37-8d46-7fdb17960059",
   "metadata": {},
   "outputs": [],
   "source": [
    "cols = ['menus.category', 'menus.currency', 'menus.description', 'name', 'province']\n",
    "\n",
    "for col in cols:\n",
    "    df[col] = df[col].fillna(df[col].mode()[0])"
   ]
  },
  {
   "cell_type": "code",
   "execution_count": 347,
   "id": "6d897ee0-0262-4256-a7e0-2efd43b0a501",
   "metadata": {},
   "outputs": [
    {
     "data": {
      "text/plain": [
       "id                   0\n",
       "address              0\n",
       "categories           0\n",
       "city                 0\n",
       "cuisines             0\n",
       "dateAdded            0\n",
       "dateUpdated          0\n",
       "latitude             0\n",
       "longitude            0\n",
       "menus.category       0\n",
       "menus.currency       0\n",
       "menus.dateSeen       0\n",
       "menus.description    0\n",
       "menus.name           0\n",
       "name                 0\n",
       "province             0\n",
       "dtype: int64"
      ]
     },
     "execution_count": 347,
     "metadata": {},
     "output_type": "execute_result"
    }
   ],
   "source": [
    "df.isnull().sum()"
   ]
  },
  {
   "cell_type": "code",
   "execution_count": 349,
   "id": "2c356090-0eb3-4d74-9b9c-264e63dda3b6",
   "metadata": {},
   "outputs": [
    {
     "name": "stdout",
     "output_type": "stream",
     "text": [
      "                         id             address  \\\n",
      "11886  AVwcgcE__7pvs4fzv0kC    13915 Fondren Rd   \n",
      "30382  AVwcvyBbByjofQCxhuuh      4875 Highway 6   \n",
      "40483  AVwdBeyk_7pvs4fz1cwP        308 S Oak St   \n",
      "40663  AVwdBIaukufWRAb51cMc      8817 Highway 6   \n",
      "40664  AVwdBIaukufWRAb51cMc      8817 Highway 6   \n",
      "40665  AVwdBIaukufWRAb51cMc      8817 Highway 6   \n",
      "43856  AVwddqB-_7pvs4fz6J5L      6302 Highway 6   \n",
      "43857  AVwddqB-_7pvs4fz6J5L      6302 Highway 6   \n",
      "52930  AVwdKTFqIN2L1WUfs1SP  1020 W Buchanan St   \n",
      "52931  AVwdKTFqIN2L1WUfs1SP  1020 W Buchanan St   \n",
      "52932  AVwdKTFqIN2L1WUfs1SP  1020 W Buchanan St   \n",
      "52933  AVwdKTFqIN2L1WUfs1SP  1020 W Buchanan St   \n",
      "52934  AVwdKTFqIN2L1WUfs1SP  1020 W Buchanan St   \n",
      "52935  AVwdKTFqIN2L1WUfs1SP  1020 W Buchanan St   \n",
      "52936  AVwdKTFqIN2L1WUfs1SP  1020 W Buchanan St   \n",
      "52937  AVwdKTFqIN2L1WUfs1SP  1020 W Buchanan St   \n",
      "52938  AVwdKTFqIN2L1WUfs1SP  1020 W Buchanan St   \n",
      "52939  AVwdKTFqIN2L1WUfs1SP  1020 W Buchanan St   \n",
      "65070  AVwdvUhykufWRAb58z0G  1002 W Buchanan St   \n",
      "72718  AVweIwKFkufWRAb5AULg      6231 Highway 6   \n",
      "72719  AVweIwKFkufWRAb5AULg      6231 Highway 6   \n",
      "72720  AVweIwKFkufWRAb5AULg      6231 Highway 6   \n",
      "72721  AVweIwKFkufWRAb5AULg      6231 Highway 6   \n",
      "72722  AVweIwKFkufWRAb5AULg      6231 Highway 6   \n",
      "72723  AVweIwKFkufWRAb5AULg      6231 Highway 6   \n",
      "72724  AVweIwKFkufWRAb5AULg      6231 Highway 6   \n",
      "72725  AVweIwKFkufWRAb5AULg      6231 Highway 6   \n",
      "72726  AVweIwKFkufWRAb5AULg      6231 Highway 6   \n",
      "72727  AVweIwKFkufWRAb5AULg      6231 Highway 6   \n",
      "73816  AVweLt57ByjofQCxv_0c      8817 Highway 6   \n",
      "73817  AVweLt57ByjofQCxv_0c      8817 Highway 6   \n",
      "73818  AVweLt57ByjofQCxv_0c      8817 Highway 6   \n",
      "\n",
      "                                              categories           city  \\\n",
      "11886  Fast Food Restaurant,Burger Joint,Burger Joint...  Missouri City   \n",
      "30382                      Restaurant,Mexican Restaurant  Missouri City   \n",
      "40483  Gas Station,Convenience Stores,Grocery Stores,...     California   \n",
      "40663  BBQ Joint and American Restaurant,American Res...  Missouri City   \n",
      "40664  BBQ Joint and American Restaurant,American Res...  Missouri City   \n",
      "40665  BBQ Joint and American Restaurant,American Res...  Missouri City   \n",
      "43856                                American Restaurant  Missouri City   \n",
      "43857                                American Restaurant  Missouri City   \n",
      "52930  Fast Food Restaurant and Mexican Restaurant,Me...     California   \n",
      "52931  Fast Food Restaurant and Mexican Restaurant,Me...     California   \n",
      "52932  Fast Food Restaurant and Mexican Restaurant,Me...     California   \n",
      "52933  Fast Food Restaurant and Mexican Restaurant,Me...     California   \n",
      "52934  Fast Food Restaurant and Mexican Restaurant,Me...     California   \n",
      "52935  Fast Food Restaurant and Mexican Restaurant,Me...     California   \n",
      "52936  Fast Food Restaurant and Mexican Restaurant,Me...     California   \n",
      "52937  Fast Food Restaurant and Mexican Restaurant,Me...     California   \n",
      "52938  Fast Food Restaurant and Mexican Restaurant,Me...     California   \n",
      "52939  Fast Food Restaurant and Mexican Restaurant,Me...     California   \n",
      "65070                               Fast Food Restaurant     California   \n",
      "72718  Fast Food Restaurant,American Restaurant,Burge...  Missouri City   \n",
      "72719  Fast Food Restaurant,American Restaurant,Burge...  Missouri City   \n",
      "72720  Fast Food Restaurant,American Restaurant,Burge...  Missouri City   \n",
      "72721  Fast Food Restaurant,American Restaurant,Burge...  Missouri City   \n",
      "72722  Fast Food Restaurant,American Restaurant,Burge...  Missouri City   \n",
      "72723  Fast Food Restaurant,American Restaurant,Burge...  Missouri City   \n",
      "72724  Fast Food Restaurant,American Restaurant,Burge...  Missouri City   \n",
      "72725  Fast Food Restaurant,American Restaurant,Burge...  Missouri City   \n",
      "72726  Fast Food Restaurant,American Restaurant,Burge...  Missouri City   \n",
      "72727  Fast Food Restaurant,American Restaurant,Burge...  Missouri City   \n",
      "73816  BBQ Joint and American Restaurant,American Res...  Missouri City   \n",
      "73817  BBQ Joint and American Restaurant,American Res...  Missouri City   \n",
      "73818  BBQ Joint and American Restaurant,American Res...  Missouri City   \n",
      "\n",
      "                    cuisines             dateAdded           dateUpdated  \\\n",
      "11886  Fast Food Restaurants  2016-03-29T04:51:30Z  2017-07-06T02:05:25Z   \n",
      "30382                Mexican  2015-11-15T18:22:40Z  2016-04-24T16:02:00Z   \n",
      "40483                  Pizza  2016-04-02T05:28:33Z  2016-09-14T02:53:47Z   \n",
      "40663                Mexican  2016-06-04T20:48:21Z  2016-10-20T21:47:00Z   \n",
      "40664                Mexican  2016-06-04T20:48:21Z  2016-10-20T21:47:00Z   \n",
      "40665                Mexican  2016-06-04T20:48:21Z  2016-10-20T21:47:00Z   \n",
      "43856                Mexican  2015-11-25T18:32:02Z  2017-07-06T20:49:46Z   \n",
      "43857                Mexican  2015-11-25T18:32:02Z  2017-07-06T20:49:46Z   \n",
      "52930                Mexican  2015-12-02T19:29:16Z  2016-05-05T00:56:00Z   \n",
      "52931                Mexican  2015-12-02T19:29:16Z  2016-05-05T00:56:00Z   \n",
      "52932                Mexican  2015-12-02T19:29:16Z  2016-05-05T00:56:00Z   \n",
      "52933                Mexican  2015-12-02T19:29:16Z  2016-05-05T00:56:00Z   \n",
      "52934                Mexican  2015-12-02T19:29:16Z  2016-05-05T00:56:00Z   \n",
      "52935                Mexican  2015-12-02T19:29:16Z  2016-05-05T00:56:00Z   \n",
      "52936                Mexican  2015-12-02T19:29:16Z  2016-05-05T00:56:00Z   \n",
      "52937                Mexican  2015-12-02T19:29:16Z  2016-05-05T00:56:00Z   \n",
      "52938                Mexican  2015-12-02T19:29:16Z  2016-05-05T00:56:00Z   \n",
      "52939                Mexican  2015-12-02T19:29:16Z  2016-05-05T00:56:00Z   \n",
      "65070   Take Out Restaurants  2015-11-06T10:12:53Z  2016-05-05T00:55:58Z   \n",
      "72718                Mexican  2015-11-15T18:25:42Z  2017-07-06T20:49:45Z   \n",
      "72719                Mexican  2015-11-15T18:25:42Z  2017-07-06T20:49:45Z   \n",
      "72720                Mexican  2015-11-15T18:25:42Z  2017-07-06T20:49:45Z   \n",
      "72721                Mexican  2015-11-15T18:25:42Z  2017-07-06T20:49:45Z   \n",
      "72722                Mexican  2015-11-15T18:25:42Z  2017-07-06T20:49:45Z   \n",
      "72723                Mexican  2015-11-15T18:25:42Z  2017-07-06T20:49:45Z   \n",
      "72724                Mexican  2015-11-15T18:25:42Z  2017-07-06T20:49:45Z   \n",
      "72725                Mexican  2015-11-15T18:25:42Z  2017-07-06T20:49:45Z   \n",
      "72726                Mexican  2015-11-15T18:25:42Z  2017-07-06T20:49:45Z   \n",
      "72727                Mexican  2015-11-15T18:25:42Z  2017-07-06T20:49:45Z   \n",
      "73816                Mexican  2016-03-05T19:51:51Z  2016-04-27T08:12:33Z   \n",
      "73817                Mexican  2016-03-05T19:51:51Z  2016-04-27T08:12:33Z   \n",
      "73818                Mexican  2016-03-05T19:51:51Z  2016-04-27T08:12:33Z   \n",
      "\n",
      "         latitude   longitude menus.category menus.currency  \\\n",
      "11886  341.659426 -599.798959          Tacos            USD   \n",
      "30382  341.659426 -599.798959          Tacos            USD   \n",
      "40483  341.659426 -599.798959          Tacos            USD   \n",
      "40663  341.659426 -599.798959          Tacos            USD   \n",
      "40664  341.659426 -599.798959          Tacos            USD   \n",
      "40665  341.659426 -599.798959          Tacos            USD   \n",
      "43856  341.659426 -599.798959          Tacos            USD   \n",
      "43857  341.659426 -599.798959          Tacos            USD   \n",
      "52930  341.659426 -599.798959          Tacos            USD   \n",
      "52931  341.659426 -599.798959          Tacos            USD   \n",
      "52932  341.659426 -599.798959          Tacos            USD   \n",
      "52933  341.659426 -599.798959          Tacos            USD   \n",
      "52934  341.659426 -599.798959          Tacos            USD   \n",
      "52935  341.659426 -599.798959          Tacos            USD   \n",
      "52936  341.659426 -599.798959          Tacos            USD   \n",
      "52937  341.659426 -599.798959          Tacos            USD   \n",
      "52938  341.659426 -599.798959          Tacos            USD   \n",
      "52939  341.659426 -599.798959          Tacos            USD   \n",
      "65070  341.659426 -599.798959          Tacos            USD   \n",
      "72718  341.659426 -599.798959          Tacos            USD   \n",
      "72719  341.659426 -599.798959          Tacos            USD   \n",
      "72720  341.659426 -599.798959          Tacos            USD   \n",
      "72721  341.659426 -599.798959          Tacos            USD   \n",
      "72722  341.659426 -599.798959          Tacos            USD   \n",
      "72723  341.659426 -599.798959          Tacos            USD   \n",
      "72724  341.659426 -599.798959          Tacos            USD   \n",
      "72725  341.659426 -599.798959          Tacos            USD   \n",
      "72726  341.659426 -599.798959          Tacos            USD   \n",
      "72727  341.659426 -599.798959          Tacos            USD   \n",
      "73816  341.659426 -599.798959          Tacos            USD   \n",
      "73817  341.659426 -599.798959          Tacos            USD   \n",
      "73818  341.659426 -599.798959          Tacos            USD   \n",
      "\n",
      "                                  menus.dateSeen  \\\n",
      "11886  2016-03-29T04:51:30Z,2016-05-24T02:45:40Z   \n",
      "30382                       2016-03-25T02:54:37Z   \n",
      "40483  2016-04-02T05:28:33Z,2016-09-14T02:53:47Z   \n",
      "40663  2016-06-04T20:48:21Z,2016-10-20T21:47:00Z   \n",
      "40664  2016-06-04T20:48:21Z,2016-10-20T21:47:00Z   \n",
      "40665  2016-06-04T20:48:21Z,2016-10-20T21:47:00Z   \n",
      "43856  2015-11-25T18:32:02Z,2016-06-08T16:18:22Z   \n",
      "43857  2015-11-25T18:32:02Z,2016-06-08T16:18:22Z   \n",
      "52930                       2016-04-02T05:28:11Z   \n",
      "52931                       2016-04-02T05:28:11Z   \n",
      "52932                       2016-04-02T05:28:11Z   \n",
      "52933                       2016-04-02T05:28:11Z   \n",
      "52934                       2016-04-02T05:28:11Z   \n",
      "52935                       2016-04-02T05:28:11Z   \n",
      "52936                       2016-04-02T05:28:11Z   \n",
      "52937                       2016-04-02T05:28:11Z   \n",
      "52938                       2016-04-02T05:28:11Z   \n",
      "52939                       2016-04-02T05:28:11Z   \n",
      "65070  2016-04-02T05:28:16Z,2015-11-06T10:12:53Z   \n",
      "72718                       2016-03-27T05:30:36Z   \n",
      "72719                       2016-03-27T05:30:36Z   \n",
      "72720                       2016-03-27T05:30:36Z   \n",
      "72721                       2016-03-27T05:30:36Z   \n",
      "72722                       2016-03-27T05:30:36Z   \n",
      "72723                       2016-03-27T05:30:36Z   \n",
      "72724                       2016-03-27T05:30:36Z   \n",
      "72725                       2016-03-27T05:30:36Z   \n",
      "72726                       2016-03-27T05:30:36Z   \n",
      "72727                       2016-03-27T05:30:36Z   \n",
      "73816  2016-04-27T08:12:33Z,2016-03-05T19:51:51Z   \n",
      "73817  2016-04-27T08:12:33Z,2016-03-05T19:51:51Z   \n",
      "73818  2016-04-27T08:12:33Z,2016-03-05T19:51:51Z   \n",
      "\n",
      "                                       menus.description  \\\n",
      "11886  Crunchy corn tortilla, spicy beef, american ch...   \n",
      "30382                             With choice of 2 sides   \n",
      "40483  Crunchy corn tortilla, spicy beef, american ch...   \n",
      "40663  Fried, blackened or grilled flounder with lett...   \n",
      "40664                        Served with chips and salsa   \n",
      "40665  Fajita beef or chicken, lettuce, pineapple man...   \n",
      "43856  Crunchy corn tortilla, spicy beef, american ch...   \n",
      "43857  Crunchy corn tortilla, spicy beef, american ch...   \n",
      "52930  A crunchy, red corn tortilla shell, filled wit...   \n",
      "52931  Crunchy corn tortilla, spicy beef, american ch...   \n",
      "52932  Crunchy corn tortilla, spicy beef, american ch...   \n",
      "52933  Crunchy corn tortilla, spicy beef, american ch...   \n",
      "52934  A warm, soft flour tortilla filled with authen...   \n",
      "52935  A crunchy, corn taco shell filled with seasone...   \n",
      "52936  Crunchy corn tortilla, spicy beef, american ch...   \n",
      "52937  A crunchy taco made with premium seasoned beef...   \n",
      "52938  A crunchy, corn taco shell filled with seasone...   \n",
      "52939  A crunchy, corn taco shell filled with seasone...   \n",
      "65070  Spice up your morning with peppers, onions, fl...   \n",
      "72718  Scrambled eggs, charbroiled steak, pepper jack...   \n",
      "72719  A flour tortilla filled with charbroiled chick...   \n",
      "72720  Scrambled eggs, sausage, ham, bacon bits, hash...   \n",
      "72721  A crisp corn tortilla filled with seasoned gro...   \n",
      "72722  A crisp corn tortilla filled with seasoned gro...   \n",
      "72723  Warm sausage gravy, smothered over scrambled e...   \n",
      "72724  Warm sausage gravy, smothered over scrambled e...   \n",
      "72725  Seasoned ground beef, pinto beans, and jack an...   \n",
      "72726  Pinto beans, jack and cheddar cheeses, wrapped...   \n",
      "72727  Crunchy corn tortilla, spicy beef, american ch...   \n",
      "73816  Fried, blackened or grilled flounder with lett...   \n",
      "73817                        Served with chips and salsa   \n",
      "73818  Fajita beef or chicken, lettuce, pineapple man...   \n",
      "\n",
      "                               menus.name  \\\n",
      "11886                                Taco   \n",
      "30382                          Taco Plate   \n",
      "40483                   Breakfast Burrito   \n",
      "40663                          Fish Tacos   \n",
      "40664                     Breakfast Tacos   \n",
      "40665                      Taco Al Carbon   \n",
      "43856                   Fish Taco Delight   \n",
      "43857              Breakfast Taco Platter   \n",
      "52930                        Volcano Taco   \n",
      "52931                     Volcano Burrito   \n",
      "52932              Soft Taco Supreme Beef   \n",
      "52933             Grilled Chicken Burrito   \n",
      "52934      Fresco Grilled Steak Soft Taco   \n",
      "52935                 Fresco Crunchy Taco   \n",
      "52936      Fresco Burrito Supreme Chicken   \n",
      "52937                 Doritos Locos Tacos   \n",
      "52938                Crunchy Taco Supreme   \n",
      "52939                        Crunchy Taco   \n",
      "65070                     Sausage Burrito   \n",
      "72718               Steak and Egg Burrito   \n",
      "72719         Southwest Chicken Soft Taco   \n",
      "72720            Loaded Breakfast Burrito   \n",
      "72721               Hard Taco Ground Beef   \n",
      "72722                         Crispy Taco   \n",
      "72723  Big Country Breakfast Burrito (ca)   \n",
      "72724       Big Country Breakfast Burrito   \n",
      "72725       Beef, Bean and Cheese Burrito   \n",
      "72726             Bean and Cheese Burrito   \n",
      "72727               Bacon and Egg Burrito   \n",
      "73816                          Fish Tacos   \n",
      "73817                     Breakfast Tacos   \n",
      "73818                      Taco Al Carbon   \n",
      "\n",
      "                                      name province  \n",
      "11886                      Jack in the Box       TX  \n",
      "30382                    Fuzzy's Taco Shop       TX  \n",
      "40483                Casey's General Store       MO  \n",
      "40663                      Hoggs N' Chicks       TX  \n",
      "40664                      Hoggs N' Chicks       TX  \n",
      "40665                      Hoggs N' Chicks       TX  \n",
      "43856                             59 Diner       TX  \n",
      "43857                             59 Diner       TX  \n",
      "52930                            Taco Bell       MO  \n",
      "52931                            Taco Bell       MO  \n",
      "52932                            Taco Bell       MO  \n",
      "52933                            Taco Bell       MO  \n",
      "52934                            Taco Bell       MO  \n",
      "52935                            Taco Bell       MO  \n",
      "52936                            Taco Bell       MO  \n",
      "52937                            Taco Bell       MO  \n",
      "52938                            Taco Bell       MO  \n",
      "52939                            Taco Bell       MO  \n",
      "65070                           Mcdonald's       MO  \n",
      "72718                           Carl's Jr.       TX  \n",
      "72719                           Carl's Jr.       TX  \n",
      "72720                           Carl's Jr.       TX  \n",
      "72721                           Carl's Jr.       TX  \n",
      "72722                           Carl's Jr.       TX  \n",
      "72723                           Carl's Jr.       TX  \n",
      "72724                           Carl's Jr.       TX  \n",
      "72725                           Carl's Jr.       TX  \n",
      "72726                           Carl's Jr.       TX  \n",
      "72727                           Carl's Jr.       TX  \n",
      "73816  Hoggs N' Chicks - A Fine Food Shack       TX  \n",
      "73817  Hoggs N' Chicks - A Fine Food Shack       TX  \n",
      "73818  Hoggs N' Chicks - A Fine Food Shack       TX  \n"
     ]
    }
   ],
   "source": [
    "# Task 6: Filter for establishments located in the city of 'California', Missouri. Provide the\n",
    "# DataFrame indices for these establishments.\n",
    "\n",
    "filtered_df = df[(df['city'] == 'California') | (df['city'] == 'Missouri City')]\n",
    "print(filtered_df)"
   ]
  },
  {
   "cell_type": "code",
   "execution_count": 173,
   "id": "e296436f-c06f-4a18-b64f-3346991c49fd",
   "metadata": {},
   "outputs": [
    {
     "name": "stdout",
     "output_type": "stream",
     "text": [
      "                         id             address  \\\n",
      "52930  AVwdKTFqIN2L1WUfs1SP  1020 W Buchanan St   \n",
      "52931  AVwdKTFqIN2L1WUfs1SP  1020 W Buchanan St   \n",
      "52932  AVwdKTFqIN2L1WUfs1SP  1020 W Buchanan St   \n",
      "52933  AVwdKTFqIN2L1WUfs1SP  1020 W Buchanan St   \n",
      "52934  AVwdKTFqIN2L1WUfs1SP  1020 W Buchanan St   \n",
      "52935  AVwdKTFqIN2L1WUfs1SP  1020 W Buchanan St   \n",
      "52936  AVwdKTFqIN2L1WUfs1SP  1020 W Buchanan St   \n",
      "52937  AVwdKTFqIN2L1WUfs1SP  1020 W Buchanan St   \n",
      "52938  AVwdKTFqIN2L1WUfs1SP  1020 W Buchanan St   \n",
      "52939  AVwdKTFqIN2L1WUfs1SP  1020 W Buchanan St   \n",
      "\n",
      "                                              categories        city cuisines  \\\n",
      "52930  Fast Food Restaurant and Mexican Restaurant,Me...  California  Mexican   \n",
      "52931  Fast Food Restaurant and Mexican Restaurant,Me...  California  Mexican   \n",
      "52932  Fast Food Restaurant and Mexican Restaurant,Me...  California  Mexican   \n",
      "52933  Fast Food Restaurant and Mexican Restaurant,Me...  California  Mexican   \n",
      "52934  Fast Food Restaurant and Mexican Restaurant,Me...  California  Mexican   \n",
      "52935  Fast Food Restaurant and Mexican Restaurant,Me...  California  Mexican   \n",
      "52936  Fast Food Restaurant and Mexican Restaurant,Me...  California  Mexican   \n",
      "52937  Fast Food Restaurant and Mexican Restaurant,Me...  California  Mexican   \n",
      "52938  Fast Food Restaurant and Mexican Restaurant,Me...  California  Mexican   \n",
      "52939  Fast Food Restaurant and Mexican Restaurant,Me...  California  Mexican   \n",
      "\n",
      "                  dateAdded           dateUpdated    latitude   longitude  \\\n",
      "52930  2015-12-02T19:29:16Z  2016-05-05T00:56:00Z  341.659426 -599.798959   \n",
      "52931  2015-12-02T19:29:16Z  2016-05-05T00:56:00Z  341.659426 -599.798959   \n",
      "52932  2015-12-02T19:29:16Z  2016-05-05T00:56:00Z  341.659426 -599.798959   \n",
      "52933  2015-12-02T19:29:16Z  2016-05-05T00:56:00Z  341.659426 -599.798959   \n",
      "52934  2015-12-02T19:29:16Z  2016-05-05T00:56:00Z  341.659426 -599.798959   \n",
      "52935  2015-12-02T19:29:16Z  2016-05-05T00:56:00Z  341.659426 -599.798959   \n",
      "52936  2015-12-02T19:29:16Z  2016-05-05T00:56:00Z  341.659426 -599.798959   \n",
      "52937  2015-12-02T19:29:16Z  2016-05-05T00:56:00Z  341.659426 -599.798959   \n",
      "52938  2015-12-02T19:29:16Z  2016-05-05T00:56:00Z  341.659426 -599.798959   \n",
      "52939  2015-12-02T19:29:16Z  2016-05-05T00:56:00Z  341.659426 -599.798959   \n",
      "\n",
      "      menus.category menus.currency        menus.dateSeen  \\\n",
      "52930          Tacos            USD  2016-04-02T05:28:11Z   \n",
      "52931          Tacos            USD  2016-04-02T05:28:11Z   \n",
      "52932          Tacos            USD  2016-04-02T05:28:11Z   \n",
      "52933          Tacos            USD  2016-04-02T05:28:11Z   \n",
      "52934          Tacos            USD  2016-04-02T05:28:11Z   \n",
      "52935          Tacos            USD  2016-04-02T05:28:11Z   \n",
      "52936          Tacos            USD  2016-04-02T05:28:11Z   \n",
      "52937          Tacos            USD  2016-04-02T05:28:11Z   \n",
      "52938          Tacos            USD  2016-04-02T05:28:11Z   \n",
      "52939          Tacos            USD  2016-04-02T05:28:11Z   \n",
      "\n",
      "                                       menus.description  \\\n",
      "52930  A crunchy, red corn tortilla shell, filled wit...   \n",
      "52931  Crunchy corn tortilla, spicy beef, american ch...   \n",
      "52932  Crunchy corn tortilla, spicy beef, american ch...   \n",
      "52933  Crunchy corn tortilla, spicy beef, american ch...   \n",
      "52934  A warm, soft flour tortilla filled with authen...   \n",
      "52935  A crunchy, corn taco shell filled with seasone...   \n",
      "52936  Crunchy corn tortilla, spicy beef, american ch...   \n",
      "52937  A crunchy taco made with premium seasoned beef...   \n",
      "52938  A crunchy, corn taco shell filled with seasone...   \n",
      "52939  A crunchy, corn taco shell filled with seasone...   \n",
      "\n",
      "                           menus.name       name province  \n",
      "52930                    Volcano Taco  Taco Bell       MO  \n",
      "52931                 Volcano Burrito  Taco Bell       MO  \n",
      "52932          Soft Taco Supreme Beef  Taco Bell       MO  \n",
      "52933         Grilled Chicken Burrito  Taco Bell       MO  \n",
      "52934  Fresco Grilled Steak Soft Taco  Taco Bell       MO  \n",
      "52935             Fresco Crunchy Taco  Taco Bell       MO  \n",
      "52936  Fresco Burrito Supreme Chicken  Taco Bell       MO  \n",
      "52937             Doritos Locos Tacos  Taco Bell       MO  \n",
      "52938            Crunchy Taco Supreme  Taco Bell       MO  \n",
      "52939                    Crunchy Taco  Taco Bell       MO  \n"
     ]
    }
   ],
   "source": [
    "# Task 7: Filter for 'Taco Bell' establishments in the city of 'California', Missouri. Provide the\n",
    "# indices for these establishments.\n",
    "\n",
    "filtered_df7 = df[((df['city'] == 'California') | (df['city'] == 'Missouri City')) & (df['name'] == 'Taco Bell')]\n",
    "print(filtered_df7)"
   ]
  },
  {
   "cell_type": "code",
   "execution_count": 351,
   "id": "6a4feaf3-e8d9-4656-ba03-6161150babe7",
   "metadata": {},
   "outputs": [
    {
     "name": "stdout",
     "output_type": "stream",
     "text": [
      "                         id               address  \\\n",
      "130    AVwc_9yCByjofQCxkdRX       322 S. Broadway   \n",
      "134    AVwc_9yCByjofQCxkdRX       322 S. Broadway   \n",
      "443    AVwc_Mkg_7pvs4fz1Eiu   19025 State Route 2   \n",
      "447    AVwc_Mkg_7pvs4fz1Eiu   19025 State Route 2   \n",
      "979    AVwc09Ug_7pvs4fzzZJs  321 State Highway 13   \n",
      "...                     ...                   ...   \n",
      "74712  AVweP4CX_7pvs4fzBVNJ      149 Oakbrooke Dr   \n",
      "75015  AVweQ_9gByjofQCxwtKo     Route 1 Box 180-A   \n",
      "75019  AVweQ_9gByjofQCxwtKo     Route 1 Box 180-A   \n",
      "75780  AVweTxkOkufWRAb5BzP7   11315 Causeway Blvd   \n",
      "75785  AVweTxkOkufWRAb5BzP7   11315 Causeway Blvd   \n",
      "\n",
      "                                              categories              city  \\\n",
      "130    Fast Food,Restaurants,Mexican,Breakfast,Vegeta...             Salem   \n",
      "134    Fast Food,Restaurants,Mexican,Breakfast,Vegeta...             Salem   \n",
      "443    Fast Food Restaurant,Mexican Restaurant,Restau...            Monroe   \n",
      "447    Fast Food Restaurant,Mexican Restaurant,Restau...            Monroe   \n",
      "979    Fast Food Restaurant,Mexican Restaurant,Restau...   Wisconsin Dells   \n",
      "...                                                  ...               ...   \n",
      "74712  Fast Food Restaurant,Mexican Restaurant,Taco P...  Mount Washington   \n",
      "75015  Fast Food Restaurant,Mexican Restaurant,Fast F...          Richburg   \n",
      "75019  Fast Food Restaurant,Mexican Restaurant,Fast F...          Richburg   \n",
      "75780  Fast Food Restaurant,Mexican Restaurant,Fast F...           Brandon   \n",
      "75785  Fast Food Restaurant,Mexican Restaurant,Fast F...           Brandon   \n",
      "\n",
      "                    cuisines             dateAdded           dateUpdated  \\\n",
      "130                  Mexican  2016-03-28T06:01:51Z  2017-06-27T10:01:48Z   \n",
      "134                  Mexican  2016-03-28T06:01:51Z  2017-06-27T10:01:48Z   \n",
      "443                  Mexican  2015-09-21T08:29:30Z  2017-07-01T12:26:25Z   \n",
      "447                  Mexican  2015-09-21T08:29:30Z  2017-07-01T12:26:25Z   \n",
      "979    Fast Food Restaurants  2016-06-20T17:38:42Z  2017-07-03T17:17:26Z   \n",
      "...                      ...                   ...                   ...   \n",
      "74712                Mexican  2016-04-04T05:09:13Z  2017-07-01T19:15:20Z   \n",
      "75015                Mexican  2015-10-23T03:09:54Z  2017-07-06T21:27:44Z   \n",
      "75019                Mexican  2015-10-23T03:09:54Z  2017-07-06T21:27:44Z   \n",
      "75780  Fast Food Restaurants  2016-03-30T04:15:38Z  2017-07-03T14:00:59Z   \n",
      "75785  Fast Food Restaurants  2016-03-30T04:15:38Z  2017-07-03T14:00:59Z   \n",
      "\n",
      "         latitude   longitude menus.category menus.currency  \\\n",
      "130    341.659426 -599.798959          Tacos            USD   \n",
      "134    341.659426 -599.798959          Tacos            USD   \n",
      "443    341.659426 -599.798959          Tacos            USD   \n",
      "447    341.659426 -599.798959          Tacos            USD   \n",
      "979    341.659426 -599.798959          Tacos            USD   \n",
      "...           ...         ...            ...            ...   \n",
      "74712  341.659426 -599.798959          Tacos            USD   \n",
      "75015  341.659426 -599.798959          Tacos            USD   \n",
      "75019  341.659426 -599.798959          Tacos            USD   \n",
      "75780  341.659426 -599.798959          Tacos            USD   \n",
      "75785  341.659426 -599.798959          Tacos            USD   \n",
      "\n",
      "                                  menus.dateSeen  \\\n",
      "130    2016-03-28T06:01:51Z,2016-06-06T16:15:44Z   \n",
      "134    2016-03-28T06:01:51Z,2016-06-06T16:15:44Z   \n",
      "443    2016-05-19T13:46:28Z,2016-04-04T03:12:06Z   \n",
      "447    2016-05-19T13:46:28Z,2016-04-04T03:12:06Z   \n",
      "979                         2016-06-20T17:38:42Z   \n",
      "...                                          ...   \n",
      "74712  2016-04-04T05:09:13Z,2016-07-31T00:12:39Z   \n",
      "75015                       2015-10-23T03:09:54Z   \n",
      "75019                       2015-10-23T03:09:54Z   \n",
      "75780                       2016-03-30T04:15:38Z   \n",
      "75785                       2016-03-30T04:15:38Z   \n",
      "\n",
      "                                       menus.description        menus.name  \\\n",
      "130    Crunchy corn tortilla, spicy beef, american ch...      Volcano Taco   \n",
      "134    Crunchy corn tortilla, spicy beef, american ch...  Fresco Soft Taco   \n",
      "443    Crunchy corn tortilla, spicy beef, american ch...      Volcano Taco   \n",
      "447    Crunchy corn tortilla, spicy beef, american ch...  Fresco Soft Taco   \n",
      "979    Crunchy corn tortilla, spicy beef, american ch...      Volcano Taco   \n",
      "...                                                  ...               ...   \n",
      "74712  Crunchy corn tortilla, spicy beef, american ch...  Fresco Soft Taco   \n",
      "75015  A crunchy, red corn tortilla shell, filled wit...      Volcano Taco   \n",
      "75019  Crunchy corn tortilla, spicy beef, american ch...  Fresco Soft Taco   \n",
      "75780  A crunchy red corn tortilla shell, filled with...      Volcano Taco   \n",
      "75785  This taco bell fresco taco is a warm, soft flo...  Fresco Soft Taco   \n",
      "\n",
      "            name province  \n",
      "130    Taco Bell       NH  \n",
      "134    Taco Bell       NH  \n",
      "443    Taco Bell       WA  \n",
      "447    Taco Bell       WA  \n",
      "979    Taco Bell       WI  \n",
      "...          ...      ...  \n",
      "74712  Taco Bell       KY  \n",
      "75015  Taco Bell       SC  \n",
      "75019  Taco Bell       SC  \n",
      "75780  Taco Bell       FL  \n",
      "75785  Taco Bell       FL  \n",
      "\n",
      "[280 rows x 16 columns]\n"
     ]
    }
   ],
   "source": [
    "# Task 8: Let's find establishments that are either 'Taco Bell' or are located in New York City. It\n",
    "# is required that the menu name does not contain 'Volcano Taco' or 'Fresco Soft Taco'. Save\n",
    "# the resulting data into a DataFrame named result.\n",
    "\n",
    "result = df[((df['city'] == 'New York') |  (df['name'] == 'Taco Bell')) & ((df['menus.name'] == 'Volcano Taco') | (df['menus.name'] == 'Fresco Soft Taco'))]\n",
    "print(result)"
   ]
  },
  {
   "cell_type": "code",
   "execution_count": 353,
   "id": "c62710cd-ece8-4f09-b8f5-7346741cd20d",
   "metadata": {},
   "outputs": [],
   "source": [
    "# Task 9: Let's select restaurants where the payment currency value is not missing. Save the\n",
    "# data into a resulting DataFrame named result.\n",
    "\n",
    "result2 = df[~df['menus.currency'].isna()]\n",
    "#'menus.currency' sütunundakı boşluqları doldurmuşdum öncədən."
   ]
  },
  {
   "cell_type": "code",
   "execution_count": 355,
   "id": "c4a29512-68b4-4e71-a6b7-f8d0811e3e1b",
   "metadata": {},
   "outputs": [
    {
     "name": "stdout",
     "output_type": "stream",
     "text": [
      "0        Restaurant Delivery Service,Restaurants,Pizza,...\n",
      "1        Restaurant Delivery Service,Restaurants,Pizza,...\n",
      "2             Golf Course, American Restaurant, and Resort\n",
      "3                                     Fast Food Restaurant\n",
      "4        Mexican Restaurant Mid-City West,Mexican Resta...\n",
      "                               ...                        \n",
      "77255                                           Restaurant\n",
      "77256                                           Restaurant\n",
      "77257                                           Restaurant\n",
      "77258                                           Restaurant\n",
      "77259                                           Restaurant\n",
      "Name: categories, Length: 77260, dtype: object\n"
     ]
    }
   ],
   "source": [
    "# Task 10: Try running data['categories'] and data[['categories']]. Observe the\n",
    "# type and the values of their elements.\n",
    "\n",
    "print(df['categories'])"
   ]
  },
  {
   "cell_type": "code",
   "execution_count": 357,
   "id": "4ecb9f44-c0eb-4f7f-a687-19451143a617",
   "metadata": {},
   "outputs": [
    {
     "name": "stdout",
     "output_type": "stream",
     "text": [
      "                                              categories\n",
      "0      Restaurant Delivery Service,Restaurants,Pizza,...\n",
      "1      Restaurant Delivery Service,Restaurants,Pizza,...\n",
      "2           Golf Course, American Restaurant, and Resort\n",
      "3                                   Fast Food Restaurant\n",
      "4      Mexican Restaurant Mid-City West,Mexican Resta...\n",
      "...                                                  ...\n",
      "77255                                         Restaurant\n",
      "77256                                         Restaurant\n",
      "77257                                         Restaurant\n",
      "77258                                         Restaurant\n",
      "77259                                         Restaurant\n",
      "\n",
      "[77260 rows x 1 columns]\n"
     ]
    }
   ],
   "source": [
    "print(df[['categories']])"
   ]
  },
  {
   "cell_type": "code",
   "execution_count": 183,
   "id": "ae6ed6a1-9f62-4f79-bf96-9c8a5fcc0b8e",
   "metadata": {},
   "outputs": [
    {
     "data": {
      "text/plain": [
       "pandas.core.frame.DataFrame"
      ]
     },
     "execution_count": 183,
     "metadata": {},
     "output_type": "execute_result"
    }
   ],
   "source": [
    "type(df[['categories']])"
   ]
  },
  {
   "cell_type": "code",
   "execution_count": 185,
   "id": "8993da73-a6ee-4790-9b9e-d9e62880cba7",
   "metadata": {},
   "outputs": [
    {
     "data": {
      "text/plain": [
       "pandas.core.series.Series"
      ]
     },
     "execution_count": 185,
     "metadata": {},
     "output_type": "execute_result"
    }
   ],
   "source": [
    "type(df['categories'])"
   ]
  },
  {
   "cell_type": "code",
   "execution_count": 359,
   "id": "2a3b25b0-9502-4f20-983e-e6d188762f2b",
   "metadata": {},
   "outputs": [
    {
     "data": {
      "text/plain": [
       "'San Diego, Los Angeles, Chicago, San Francisco, New York'"
      ]
     },
     "execution_count": 359,
     "metadata": {},
     "output_type": "execute_result"
    }
   ],
   "source": [
    "# Task 11: List the top 5 cities with the highest number of records, separated by a comma and\n",
    "# a space.\n",
    "\n",
    "', '.join(df['city'].value_counts().head().index)"
   ]
  },
  {
   "cell_type": "code",
   "execution_count": 361,
   "id": "c691e2b8-3d44-4180-ab3b-04ac23596ae1",
   "metadata": {},
   "outputs": [
    {
     "data": {
      "text/plain": [
       "city\n",
       "Indianapolis        84\n",
       "Columbus            63\n",
       "Charleston          63\n",
       "Tampa               62\n",
       "South Lake Tahoe    42\n",
       "Name: count, dtype: int64"
      ]
     },
     "execution_count": 361,
     "metadata": {},
     "output_type": "execute_result"
    }
   ],
   "source": [
    "# Task 12: Count how many 'Taco Bell' restaurants are in each city. Select the 5 cities where\n",
    "# this restaurant appears most frequently. Save the number of restaurants for these cities\n",
    "# along with their names as a pd.Series object into the variable result.\n",
    "\n",
    "new_df = df[df['name'] == 'Taco Bell']\n",
    "new_df['city'].value_counts().head()"
   ]
  },
  {
   "cell_type": "code",
   "execution_count": 385,
   "id": "9d4b3868-b776-4096-a4e0-f15a5ef71e10",
   "metadata": {},
   "outputs": [],
   "source": [
    "df['dateAdded'] = pd.to_datetime(df['dateAdded'], errors='coerce')"
   ]
  },
  {
   "cell_type": "code",
   "execution_count": 387,
   "id": "d30ac922-2960-4fcf-9380-5b9fc45599b2",
   "metadata": {},
   "outputs": [],
   "source": [
    "df['dateUpdated'] = pd.to_datetime(df['dateUpdated'], errors='coerce')"
   ]
  },
  {
   "cell_type": "code",
   "execution_count": 365,
   "id": "cb2e6ba1-af26-4d2d-8638-26df8106d494",
   "metadata": {},
   "outputs": [
    {
     "name": "stdout",
     "output_type": "stream",
     "text": [
      "Diablo Grande Golf & Country Club, Riff's Joint, Riff's Joint, Riff's Joint, Riff's Joint\n"
     ]
    }
   ],
   "source": [
    "# Task 13: Let's find restaurants that opened in October. Provide the indices of the first five\n",
    "# restaurants, separated by a comma and a space, in ascending order.\n",
    "\n",
    "df_restaurants = df[df['dateAdded'].dt.month == 10].head()\n",
    "joined = ', '.join(df_restaurants['name'].astype(str))\n",
    "print(joined)"
   ]
  },
  {
   "cell_type": "code",
   "execution_count": 377,
   "id": "d9893ace-cf1f-4919-8baa-c82f31572f43",
   "metadata": {},
   "outputs": [
    {
     "name": "stdout",
     "output_type": "stream",
     "text": [
      "                      dateAdded  count_id\n",
      "0     2015-10-23 07:21:55+05:00        79\n",
      "1     2015-10-23 09:21:18+05:00        68\n",
      "2     2016-06-08 20:06:19+04:00        61\n",
      "3     2016-04-01 10:40:50+04:00        59\n",
      "4     2016-03-24 13:56:19+04:00        54\n",
      "...                         ...       ...\n",
      "17960 2015-11-02 21:47:26+04:00         1\n",
      "17961 2015-11-02 21:52:06+04:00         1\n",
      "17962 2015-10-20 04:50:22+05:00         1\n",
      "17963 2017-06-22 22:33:22+04:00         1\n",
      "17964 2017-06-22 22:34:04+04:00         1\n",
      "\n",
      "[17965 rows x 2 columns]\n"
     ]
    }
   ],
   "source": [
    "# Task 14: Group the data by the month the restaurant opened (the dateAdded variable).\n",
    "# How many restaurants were opened each month? Calculate this based on the count of\n",
    "# unique restaurant IDs for each month. The dateAdded values should be the index. Save\n",
    "# the resulting DataFrame in result.\n",
    "\n",
    "import duckdb\n",
    "\n",
    "con = duckdb.connect()\n",
    "result = con.execute(\"SELECT dateAdded, COUNT(id) AS count_id FROM df GROUP BY dateAdded ORDER BY count_id DESC\").df()\n",
    "print(result)"
   ]
  },
  {
   "cell_type": "code",
   "execution_count": null,
   "id": "1c541194-34d0-4fa6-b982-7286e1b7978e",
   "metadata": {},
   "outputs": [],
   "source": [
    "# Task 15: In this task, you need to add a column named update_delta with the number of\n",
    "# whole days calculated from the difference between dateUpdated and dateAdded. Then,\n",
    "# for each city, find (in the specified order):\n",
    "# ● The mean of the update_delta variable.\n",
    "# ● The latitude of the northernmost eatery (the more northern the eatery, the higher the\n",
    "# latitude value). The city names should not be the index. Save the resulting\n",
    "# DataFrame into the variable result. Also, save the mean update_deltafor the\n",
    "# city 'Zephyrhills' into the variable zep_mean."
   ]
  },
  {
   "cell_type": "code",
   "execution_count": 395,
   "id": "985d3d0d-e4ae-42a4-8f2b-77d1cfc840bb",
   "metadata": {},
   "outputs": [
    {
     "name": "stdout",
     "output_type": "stream",
     "text": [
      "0        336\n",
      "1        336\n",
      "2          0\n",
      "3         24\n",
      "4        114\n",
      "        ... \n",
      "77255      0\n",
      "77256      0\n",
      "77257      0\n",
      "77258      0\n",
      "77259      0\n",
      "Name: update_delta, Length: 77260, dtype: int64\n"
     ]
    }
   ],
   "source": [
    "df['update_delta'] = (df['dateUpdated'] - df['dateAdded']).dt.days\n",
    "print(df['update_delta'])"
   ]
  },
  {
   "cell_type": "code",
   "execution_count": 399,
   "id": "887b34a6-416f-481b-8330-cf047b910c92",
   "metadata": {},
   "outputs": [
    {
     "name": "stdout",
     "output_type": "stream",
     "text": [
      "               city  avg_update_delta\n",
      "0       Easthampton        328.000000\n",
      "1       Saint Louis        288.200000\n",
      "2         Ypsilanti        239.250000\n",
      "3         Bradenton        505.391304\n",
      "4         Corsicana        145.937500\n",
      "...             ...               ...\n",
      "3596         Mathis        134.000000\n",
      "3597         Jordan        117.000000\n",
      "3598         Hixson        603.000000\n",
      "3599        Brawley        451.000000\n",
      "3600  Barboursville        311.000000\n",
      "\n",
      "[3601 rows x 2 columns]\n"
     ]
    }
   ],
   "source": [
    "import duckdb\n",
    "\n",
    "con = duckdb.connect()\n",
    "avg_delta = con.execute(\"SELECT city, AVG(update_delta) AS avg_update_delta FROM df GROUP BY city\").df()\n",
    "print(avg_delta)"
   ]
  },
  {
   "cell_type": "code",
   "execution_count": 405,
   "id": "f2743426-ced9-4366-88eb-d2c641bd03db",
   "metadata": {},
   "outputs": [
    {
     "name": "stdout",
     "output_type": "stream",
     "text": [
      "      city  latitude\n",
      "0  Seattle   476.794\n"
     ]
    }
   ],
   "source": [
    "import duckdb\n",
    "\n",
    "con = duckdb.connect()\n",
    "avg_delta = con.execute(\"SELECT city, latitude FROM df ORDER BY latitude DESC LIMIT 1\").df()\n",
    "print(avg_delta)"
   ]
  },
  {
   "cell_type": "code",
   "execution_count": 415,
   "id": "a63db81f-141a-4ba5-8f14-e3aed34fc23c",
   "metadata": {},
   "outputs": [
    {
     "data": {
      "text/plain": [
       "66"
      ]
     },
     "execution_count": 415,
     "metadata": {},
     "output_type": "execute_result"
    }
   ],
   "source": [
    "# Task 16: Select restaurants that have 'Pizza' mentioned in their categories column.\n",
    "# Provide the index of the 3rd element from the filtered results.\n",
    "\n",
    "df_pizza = df[df['categories'].str.contains('pizza', case=False, na=False)]\n",
    "df_pizza.index[2]"
   ]
  },
  {
   "cell_type": "code",
   "execution_count": null,
   "id": "631be02e-9923-4c90-93db-9bb1b068a651",
   "metadata": {},
   "outputs": [],
   "source": [
    "# Task 17: In this task, you again need to add a column update_delta, which will store the\n",
    "# difference in days between dateUpdated and dateAdded. Calculate the mean and\n",
    "# median of this new column. List the values separated by a space (mean first, then median),\n",
    "# rounded to 2 decimal places."
   ]
  },
  {
   "cell_type": "code",
   "execution_count": 431,
   "id": "e9996c33-f829-45b0-8ec2-8a4e993b49cb",
   "metadata": {},
   "outputs": [
    {
     "name": "stdout",
     "output_type": "stream",
     "text": [
      "326.22   364.0\n"
     ]
    }
   ],
   "source": [
    "result_mean = round(df['update_delta'].mean(),2)   \n",
    "result_median = round(df['update_delta'].median(),2)\n",
    "\n",
    "print(result_mean,' ',result_median)"
   ]
  },
  {
   "cell_type": "code",
   "execution_count": null,
   "id": "ddfe6172-8a59-409b-92f4-c1249ed6ed08",
   "metadata": {},
   "outputs": [],
   "source": [
    "# Task 18: For this task, you need to select records that have more than 20 categories. Then,\n",
    "# group them by province and calculate the minimum longitude in each. Round the\n",
    "# longitude values to 3 decimal places. Next, save the resulting DataFrame to a CSV file\n",
    "# using a semicolon (;) as the separator. The DataFrame itself should contain two columns:\n",
    "# province and longitude."
   ]
  },
  {
   "cell_type": "code",
   "execution_count": 451,
   "id": "5d6b1ee7-2038-4285-82fc-6f3d73b0848b",
   "metadata": {},
   "outputs": [
    {
     "name": "stdout",
     "output_type": "stream",
     "text": [
      "  province  round(longitude, 3)\n",
      "0       TX             -997.672\n"
     ]
    }
   ],
   "source": [
    "df['categories_count'] = df['categories'].str.split(',').apply(len)\n",
    "filtered_df = df[df['categories_count']>20]\n",
    "\n",
    "import duckdb \n",
    "con = duckdb.connect()\n",
    "result18 = con.execute(\"SELECT province, ROUND(longitude,3) FROM df ORDER BY longitude LIMIT 1\").df()\n",
    "\n",
    "print(result18)"
   ]
  },
  {
   "cell_type": "code",
   "execution_count": 453,
   "id": "168ad06c-d233-4e12-b94f-1f2d916c0049",
   "metadata": {},
   "outputs": [
    {
     "data": {
      "text/plain": [
       "pandas.core.frame.DataFrame"
      ]
     },
     "execution_count": 453,
     "metadata": {},
     "output_type": "execute_result"
    }
   ],
   "source": [
    "type(result18)"
   ]
  },
  {
   "cell_type": "code",
   "execution_count": null,
   "id": "f3482957-21f9-4649-a9da-f4f79c8fc8f8",
   "metadata": {},
   "outputs": [],
   "source": []
  }
 ],
 "metadata": {
  "kernelspec": {
   "display_name": "Python 3 (ipykernel)",
   "language": "python",
   "name": "python3"
  },
  "language_info": {
   "codemirror_mode": {
    "name": "ipython",
    "version": 3
   },
   "file_extension": ".py",
   "mimetype": "text/x-python",
   "name": "python",
   "nbconvert_exporter": "python",
   "pygments_lexer": "ipython3",
   "version": "3.12.4"
  }
 },
 "nbformat": 4,
 "nbformat_minor": 5
}
